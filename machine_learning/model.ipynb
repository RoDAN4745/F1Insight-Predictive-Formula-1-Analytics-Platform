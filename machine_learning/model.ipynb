{
 "cells": [
  {
   "cell_type": "markdown",
   "id": "e6838a26f3bb7f22",
   "metadata": {
    "collapsed": false,
    "jupyter": {
     "outputs_hidden": false
    }
   },
   "source": [
    "# Model"
   ]
  },
  {
   "cell_type": "code",
   "execution_count": 23,
   "id": "9080a26bfef6a6da",
   "metadata": {
    "ExecuteTime": {
     "end_time": "2024-04-28T23:27:54.108990Z",
     "start_time": "2024-04-28T23:27:53.899699Z"
    },
    "collapsed": false,
    "jupyter": {
     "outputs_hidden": false
    }
   },
   "outputs": [
    {
     "name": "stderr",
     "output_type": "stream",
     "text": [
      "\n",
      "A module that was compiled using NumPy 1.x cannot be run in\n",
      "NumPy 2.3.0 as it may crash. To support both 1.x and 2.x\n",
      "versions of NumPy, modules must be compiled with NumPy 2.0.\n",
      "Some module may need to rebuild instead e.g. with 'pybind11>=2.12'.\n",
      "\n",
      "If you are a user of the module, the easiest solution will be to\n",
      "downgrade to 'numpy<2' or try to upgrade the affected module.\n",
      "We expect that some modules will need time to support NumPy 2.\n",
      "\n",
      "Traceback (most recent call last):  File \"<frozen runpy>\", line 198, in _run_module_as_main\n",
      "  File \"<frozen runpy>\", line 88, in _run_code\n",
      "  File \"C:\\Users\\aadik\\anaconda3\\Lib\\site-packages\\ipykernel_launcher.py\", line 17, in <module>\n",
      "    app.launch_new_instance()\n",
      "  File \"C:\\Users\\aadik\\anaconda3\\Lib\\site-packages\\traitlets\\config\\application.py\", line 1075, in launch_instance\n",
      "    app.start()\n",
      "  File \"C:\\Users\\aadik\\anaconda3\\Lib\\site-packages\\ipykernel\\kernelapp.py\", line 701, in start\n",
      "    self.io_loop.start()\n",
      "  File \"C:\\Users\\aadik\\anaconda3\\Lib\\site-packages\\tornado\\platform\\asyncio.py\", line 205, in start\n",
      "    self.asyncio_loop.run_forever()\n",
      "  File \"C:\\Users\\aadik\\anaconda3\\Lib\\asyncio\\windows_events.py\", line 322, in run_forever\n",
      "    super().run_forever()\n",
      "  File \"C:\\Users\\aadik\\anaconda3\\Lib\\asyncio\\base_events.py\", line 641, in run_forever\n",
      "    self._run_once()\n",
      "  File \"C:\\Users\\aadik\\anaconda3\\Lib\\asyncio\\base_events.py\", line 1986, in _run_once\n",
      "    handle._run()\n",
      "  File \"C:\\Users\\aadik\\anaconda3\\Lib\\asyncio\\events.py\", line 88, in _run\n",
      "    self._context.run(self._callback, *self._args)\n",
      "  File \"C:\\Users\\aadik\\anaconda3\\Lib\\site-packages\\ipykernel\\kernelbase.py\", line 534, in dispatch_queue\n",
      "    await self.process_one()\n",
      "  File \"C:\\Users\\aadik\\anaconda3\\Lib\\site-packages\\ipykernel\\kernelbase.py\", line 523, in process_one\n",
      "    await dispatch(*args)\n",
      "  File \"C:\\Users\\aadik\\anaconda3\\Lib\\site-packages\\ipykernel\\kernelbase.py\", line 429, in dispatch_shell\n",
      "    await result\n",
      "  File \"C:\\Users\\aadik\\anaconda3\\Lib\\site-packages\\ipykernel\\kernelbase.py\", line 767, in execute_request\n",
      "    reply_content = await reply_content\n",
      "  File \"C:\\Users\\aadik\\anaconda3\\Lib\\site-packages\\ipykernel\\ipkernel.py\", line 429, in do_execute\n",
      "    res = shell.run_cell(\n",
      "  File \"C:\\Users\\aadik\\anaconda3\\Lib\\site-packages\\ipykernel\\zmqshell.py\", line 549, in run_cell\n",
      "    return super().run_cell(*args, **kwargs)\n",
      "  File \"C:\\Users\\aadik\\anaconda3\\Lib\\site-packages\\IPython\\core\\interactiveshell.py\", line 3075, in run_cell\n",
      "    result = self._run_cell(\n",
      "  File \"C:\\Users\\aadik\\anaconda3\\Lib\\site-packages\\IPython\\core\\interactiveshell.py\", line 3130, in _run_cell\n",
      "    result = runner(coro)\n",
      "  File \"C:\\Users\\aadik\\anaconda3\\Lib\\site-packages\\IPython\\core\\async_helpers.py\", line 128, in _pseudo_sync_runner\n",
      "    coro.send(None)\n",
      "  File \"C:\\Users\\aadik\\anaconda3\\Lib\\site-packages\\IPython\\core\\interactiveshell.py\", line 3334, in run_cell_async\n",
      "    has_raised = await self.run_ast_nodes(code_ast.body, cell_name,\n",
      "  File \"C:\\Users\\aadik\\anaconda3\\Lib\\site-packages\\IPython\\core\\interactiveshell.py\", line 3517, in run_ast_nodes\n",
      "    if await self.run_code(code, result, async_=asy):\n",
      "  File \"C:\\Users\\aadik\\anaconda3\\Lib\\site-packages\\IPython\\core\\interactiveshell.py\", line 3577, in run_code\n",
      "    exec(code_obj, self.user_global_ns, self.user_ns)\n",
      "  File \"C:\\Users\\aadik\\AppData\\Local\\Temp\\ipykernel_16736\\2073835740.py\", line 4, in <module>\n",
      "    import seaborn as sns\n",
      "  File \"C:\\Users\\aadik\\anaconda3\\Lib\\site-packages\\seaborn\\__init__.py\", line 2, in <module>\n",
      "    from .rcmod import *  # noqa: F401,F403\n",
      "  File \"C:\\Users\\aadik\\anaconda3\\Lib\\site-packages\\seaborn\\rcmod.py\", line 3, in <module>\n",
      "    import matplotlib as mpl\n",
      "  File \"C:\\Users\\aadik\\anaconda3\\Lib\\site-packages\\matplotlib\\__init__.py\", line 159, in <module>\n",
      "    from . import _api, _version, cbook, _docstring, rcsetup\n",
      "  File \"C:\\Users\\aadik\\anaconda3\\Lib\\site-packages\\matplotlib\\rcsetup.py\", line 28, in <module>\n",
      "    from matplotlib.colors import Colormap, is_color_like\n",
      "  File \"C:\\Users\\aadik\\anaconda3\\Lib\\site-packages\\matplotlib\\colors.py\", line 57, in <module>\n",
      "    from matplotlib import _api, _cm, cbook, scale\n",
      "  File \"C:\\Users\\aadik\\anaconda3\\Lib\\site-packages\\matplotlib\\scale.py\", line 22, in <module>\n",
      "    from matplotlib.ticker import (\n",
      "  File \"C:\\Users\\aadik\\anaconda3\\Lib\\site-packages\\matplotlib\\ticker.py\", line 144, in <module>\n",
      "    from matplotlib import transforms as mtransforms\n",
      "  File \"C:\\Users\\aadik\\anaconda3\\Lib\\site-packages\\matplotlib\\transforms.py\", line 49, in <module>\n",
      "    from matplotlib._path import (\n"
     ]
    },
    {
     "ename": "ImportError",
     "evalue": "\nA module that was compiled using NumPy 1.x cannot be run in\nNumPy 2.3.0 as it may crash. To support both 1.x and 2.x\nversions of NumPy, modules must be compiled with NumPy 2.0.\nSome module may need to rebuild instead e.g. with 'pybind11>=2.12'.\n\nIf you are a user of the module, the easiest solution will be to\ndowngrade to 'numpy<2' or try to upgrade the affected module.\nWe expect that some modules will need time to support NumPy 2.\n\n",
     "output_type": "error",
     "traceback": [
      "\u001b[1;31m---------------------------------------------------------------------------\u001b[0m",
      "\u001b[1;31mImportError\u001b[0m                               Traceback (most recent call last)",
      "File \u001b[1;32m~\\AppData\\Roaming\\Python\\Python312\\site-packages\\numpy\\core\\_multiarray_umath.py:46\u001b[0m, in \u001b[0;36m__getattr__\u001b[1;34m(attr_name)\u001b[0m\n\u001b[0;32m     41\u001b[0m     \u001b[38;5;66;03m# Also print the message (with traceback).  This is because old versions\u001b[39;00m\n\u001b[0;32m     42\u001b[0m     \u001b[38;5;66;03m# of NumPy unfortunately set up the import to replace (and hide) the\u001b[39;00m\n\u001b[0;32m     43\u001b[0m     \u001b[38;5;66;03m# error.  The traceback shouldn't be needed, but e.g. pytest plugins\u001b[39;00m\n\u001b[0;32m     44\u001b[0m     \u001b[38;5;66;03m# seem to swallow it and we should be failing anyway...\u001b[39;00m\n\u001b[0;32m     45\u001b[0m     sys\u001b[38;5;241m.\u001b[39mstderr\u001b[38;5;241m.\u001b[39mwrite(msg \u001b[38;5;241m+\u001b[39m tb_msg)\n\u001b[1;32m---> 46\u001b[0m     \u001b[38;5;28;01mraise\u001b[39;00m \u001b[38;5;167;01mImportError\u001b[39;00m(msg)\n\u001b[0;32m     48\u001b[0m ret \u001b[38;5;241m=\u001b[39m \u001b[38;5;28mgetattr\u001b[39m(_multiarray_umath, attr_name, \u001b[38;5;28;01mNone\u001b[39;00m)\n\u001b[0;32m     49\u001b[0m \u001b[38;5;28;01mif\u001b[39;00m ret \u001b[38;5;129;01mis\u001b[39;00m \u001b[38;5;28;01mNone\u001b[39;00m:\n",
      "\u001b[1;31mImportError\u001b[0m: \nA module that was compiled using NumPy 1.x cannot be run in\nNumPy 2.3.0 as it may crash. To support both 1.x and 2.x\nversions of NumPy, modules must be compiled with NumPy 2.0.\nSome module may need to rebuild instead e.g. with 'pybind11>=2.12'.\n\nIf you are a user of the module, the easiest solution will be to\ndowngrade to 'numpy<2' or try to upgrade the affected module.\nWe expect that some modules will need time to support NumPy 2.\n\n"
     ]
    },
    {
     "ename": "ImportError",
     "evalue": "initialization failed",
     "output_type": "error",
     "traceback": [
      "\u001b[1;31m---------------------------------------------------------------------------\u001b[0m",
      "\u001b[1;31mImportError\u001b[0m                               Traceback (most recent call last)",
      "\u001b[1;31mImportError\u001b[0m: numpy.core.multiarray failed to import",
      "\nThe above exception was the direct cause of the following exception:\n",
      "\u001b[1;31mImportError\u001b[0m                               Traceback (most recent call last)",
      "Cell \u001b[1;32mIn[23], line 4\u001b[0m\n\u001b[0;32m      2\u001b[0m \u001b[38;5;28;01mimport\u001b[39;00m \u001b[38;5;21;01mpandas\u001b[39;00m \u001b[38;5;28;01mas\u001b[39;00m \u001b[38;5;21;01mpd\u001b[39;00m\n\u001b[0;32m      3\u001b[0m \u001b[38;5;28;01mimport\u001b[39;00m \u001b[38;5;21;01mnumpy\u001b[39;00m \u001b[38;5;28;01mas\u001b[39;00m \u001b[38;5;21;01mnp\u001b[39;00m\n\u001b[1;32m----> 4\u001b[0m \u001b[38;5;28;01mimport\u001b[39;00m \u001b[38;5;21;01mseaborn\u001b[39;00m \u001b[38;5;28;01mas\u001b[39;00m \u001b[38;5;21;01msns\u001b[39;00m\n\u001b[0;32m      5\u001b[0m \u001b[38;5;28;01mimport\u001b[39;00m \u001b[38;5;21;01mmatplotlib\u001b[39;00m\u001b[38;5;21;01m.\u001b[39;00m\u001b[38;5;21;01mpyplot\u001b[39;00m \u001b[38;5;28;01mas\u001b[39;00m \u001b[38;5;21;01mplt\u001b[39;00m\n\u001b[0;32m      6\u001b[0m \u001b[38;5;28;01mfrom\u001b[39;00m \u001b[38;5;21;01msklearn\u001b[39;00m\u001b[38;5;21;01m.\u001b[39;00m\u001b[38;5;21;01mtree\u001b[39;00m \u001b[38;5;28;01mimport\u001b[39;00m DecisionTreeClassifier\n",
      "File \u001b[1;32m~\\anaconda3\\Lib\\site-packages\\seaborn\\__init__.py:2\u001b[0m\n\u001b[0;32m      1\u001b[0m \u001b[38;5;66;03m# Import seaborn objects\u001b[39;00m\n\u001b[1;32m----> 2\u001b[0m \u001b[38;5;28;01mfrom\u001b[39;00m \u001b[38;5;21;01m.\u001b[39;00m\u001b[38;5;21;01mrcmod\u001b[39;00m \u001b[38;5;28;01mimport\u001b[39;00m \u001b[38;5;241m*\u001b[39m  \u001b[38;5;66;03m# noqa: F401,F403\u001b[39;00m\n\u001b[0;32m      3\u001b[0m \u001b[38;5;28;01mfrom\u001b[39;00m \u001b[38;5;21;01m.\u001b[39;00m\u001b[38;5;21;01mutils\u001b[39;00m \u001b[38;5;28;01mimport\u001b[39;00m \u001b[38;5;241m*\u001b[39m  \u001b[38;5;66;03m# noqa: F401,F403\u001b[39;00m\n\u001b[0;32m      4\u001b[0m \u001b[38;5;28;01mfrom\u001b[39;00m \u001b[38;5;21;01m.\u001b[39;00m\u001b[38;5;21;01mpalettes\u001b[39;00m \u001b[38;5;28;01mimport\u001b[39;00m \u001b[38;5;241m*\u001b[39m  \u001b[38;5;66;03m# noqa: F401,F403\u001b[39;00m\n",
      "File \u001b[1;32m~\\anaconda3\\Lib\\site-packages\\seaborn\\rcmod.py:3\u001b[0m\n\u001b[0;32m      1\u001b[0m \u001b[38;5;124;03m\"\"\"Control plot style and scaling using the matplotlib rcParams interface.\"\"\"\u001b[39;00m\n\u001b[0;32m      2\u001b[0m \u001b[38;5;28;01mimport\u001b[39;00m \u001b[38;5;21;01mfunctools\u001b[39;00m\n\u001b[1;32m----> 3\u001b[0m \u001b[38;5;28;01mimport\u001b[39;00m \u001b[38;5;21;01mmatplotlib\u001b[39;00m \u001b[38;5;28;01mas\u001b[39;00m \u001b[38;5;21;01mmpl\u001b[39;00m\n\u001b[0;32m      4\u001b[0m \u001b[38;5;28;01mfrom\u001b[39;00m \u001b[38;5;21;01mcycler\u001b[39;00m \u001b[38;5;28;01mimport\u001b[39;00m cycler\n\u001b[0;32m      5\u001b[0m \u001b[38;5;28;01mfrom\u001b[39;00m \u001b[38;5;21;01m.\u001b[39;00m \u001b[38;5;28;01mimport\u001b[39;00m palettes\n",
      "File \u001b[1;32m~\\anaconda3\\Lib\\site-packages\\matplotlib\\__init__.py:159\u001b[0m\n\u001b[0;32m    155\u001b[0m \u001b[38;5;28;01mfrom\u001b[39;00m \u001b[38;5;21;01mpackaging\u001b[39;00m\u001b[38;5;21;01m.\u001b[39;00m\u001b[38;5;21;01mversion\u001b[39;00m \u001b[38;5;28;01mimport\u001b[39;00m parse \u001b[38;5;28;01mas\u001b[39;00m parse_version\n\u001b[0;32m    157\u001b[0m \u001b[38;5;66;03m# cbook must import matplotlib only within function\u001b[39;00m\n\u001b[0;32m    158\u001b[0m \u001b[38;5;66;03m# definitions, so it is safe to import from it here.\u001b[39;00m\n\u001b[1;32m--> 159\u001b[0m \u001b[38;5;28;01mfrom\u001b[39;00m \u001b[38;5;21;01m.\u001b[39;00m \u001b[38;5;28;01mimport\u001b[39;00m _api, _version, cbook, _docstring, rcsetup\n\u001b[0;32m    160\u001b[0m \u001b[38;5;28;01mfrom\u001b[39;00m \u001b[38;5;21;01mmatplotlib\u001b[39;00m\u001b[38;5;21;01m.\u001b[39;00m\u001b[38;5;21;01mcbook\u001b[39;00m \u001b[38;5;28;01mimport\u001b[39;00m sanitize_sequence\n\u001b[0;32m    161\u001b[0m \u001b[38;5;28;01mfrom\u001b[39;00m \u001b[38;5;21;01mmatplotlib\u001b[39;00m\u001b[38;5;21;01m.\u001b[39;00m\u001b[38;5;21;01m_api\u001b[39;00m \u001b[38;5;28;01mimport\u001b[39;00m MatplotlibDeprecationWarning\n",
      "File \u001b[1;32m~\\anaconda3\\Lib\\site-packages\\matplotlib\\rcsetup.py:28\u001b[0m\n\u001b[0;32m     26\u001b[0m \u001b[38;5;28;01mfrom\u001b[39;00m \u001b[38;5;21;01mmatplotlib\u001b[39;00m\u001b[38;5;21;01m.\u001b[39;00m\u001b[38;5;21;01mbackends\u001b[39;00m \u001b[38;5;28;01mimport\u001b[39;00m BackendFilter, backend_registry\n\u001b[0;32m     27\u001b[0m \u001b[38;5;28;01mfrom\u001b[39;00m \u001b[38;5;21;01mmatplotlib\u001b[39;00m\u001b[38;5;21;01m.\u001b[39;00m\u001b[38;5;21;01mcbook\u001b[39;00m \u001b[38;5;28;01mimport\u001b[39;00m ls_mapper\n\u001b[1;32m---> 28\u001b[0m \u001b[38;5;28;01mfrom\u001b[39;00m \u001b[38;5;21;01mmatplotlib\u001b[39;00m\u001b[38;5;21;01m.\u001b[39;00m\u001b[38;5;21;01mcolors\u001b[39;00m \u001b[38;5;28;01mimport\u001b[39;00m Colormap, is_color_like\n\u001b[0;32m     29\u001b[0m \u001b[38;5;28;01mfrom\u001b[39;00m \u001b[38;5;21;01mmatplotlib\u001b[39;00m\u001b[38;5;21;01m.\u001b[39;00m\u001b[38;5;21;01m_fontconfig_pattern\u001b[39;00m \u001b[38;5;28;01mimport\u001b[39;00m parse_fontconfig_pattern\n\u001b[0;32m     30\u001b[0m \u001b[38;5;28;01mfrom\u001b[39;00m \u001b[38;5;21;01mmatplotlib\u001b[39;00m\u001b[38;5;21;01m.\u001b[39;00m\u001b[38;5;21;01m_enums\u001b[39;00m \u001b[38;5;28;01mimport\u001b[39;00m JoinStyle, CapStyle\n",
      "File \u001b[1;32m~\\anaconda3\\Lib\\site-packages\\matplotlib\\colors.py:57\u001b[0m\n\u001b[0;32m     55\u001b[0m \u001b[38;5;28;01mimport\u001b[39;00m \u001b[38;5;21;01mmatplotlib\u001b[39;00m \u001b[38;5;28;01mas\u001b[39;00m \u001b[38;5;21;01mmpl\u001b[39;00m\n\u001b[0;32m     56\u001b[0m \u001b[38;5;28;01mimport\u001b[39;00m \u001b[38;5;21;01mnumpy\u001b[39;00m \u001b[38;5;28;01mas\u001b[39;00m \u001b[38;5;21;01mnp\u001b[39;00m\n\u001b[1;32m---> 57\u001b[0m \u001b[38;5;28;01mfrom\u001b[39;00m \u001b[38;5;21;01mmatplotlib\u001b[39;00m \u001b[38;5;28;01mimport\u001b[39;00m _api, _cm, cbook, scale\n\u001b[0;32m     58\u001b[0m \u001b[38;5;28;01mfrom\u001b[39;00m \u001b[38;5;21;01m.\u001b[39;00m\u001b[38;5;21;01m_color_data\u001b[39;00m \u001b[38;5;28;01mimport\u001b[39;00m BASE_COLORS, TABLEAU_COLORS, CSS4_COLORS, XKCD_COLORS\n\u001b[0;32m     61\u001b[0m \u001b[38;5;28;01mclass\u001b[39;00m \u001b[38;5;21;01m_ColorMapping\u001b[39;00m(\u001b[38;5;28mdict\u001b[39m):\n",
      "File \u001b[1;32m~\\anaconda3\\Lib\\site-packages\\matplotlib\\scale.py:22\u001b[0m\n\u001b[0;32m     20\u001b[0m \u001b[38;5;28;01mimport\u001b[39;00m \u001b[38;5;21;01mmatplotlib\u001b[39;00m \u001b[38;5;28;01mas\u001b[39;00m \u001b[38;5;21;01mmpl\u001b[39;00m\n\u001b[0;32m     21\u001b[0m \u001b[38;5;28;01mfrom\u001b[39;00m \u001b[38;5;21;01mmatplotlib\u001b[39;00m \u001b[38;5;28;01mimport\u001b[39;00m _api, _docstring\n\u001b[1;32m---> 22\u001b[0m \u001b[38;5;28;01mfrom\u001b[39;00m \u001b[38;5;21;01mmatplotlib\u001b[39;00m\u001b[38;5;21;01m.\u001b[39;00m\u001b[38;5;21;01mticker\u001b[39;00m \u001b[38;5;28;01mimport\u001b[39;00m (\n\u001b[0;32m     23\u001b[0m     NullFormatter, ScalarFormatter, LogFormatterSciNotation, LogitFormatter,\n\u001b[0;32m     24\u001b[0m     NullLocator, LogLocator, AutoLocator, AutoMinorLocator,\n\u001b[0;32m     25\u001b[0m     SymmetricalLogLocator, AsinhLocator, LogitLocator)\n\u001b[0;32m     26\u001b[0m \u001b[38;5;28;01mfrom\u001b[39;00m \u001b[38;5;21;01mmatplotlib\u001b[39;00m\u001b[38;5;21;01m.\u001b[39;00m\u001b[38;5;21;01mtransforms\u001b[39;00m \u001b[38;5;28;01mimport\u001b[39;00m Transform, IdentityTransform\n\u001b[0;32m     29\u001b[0m \u001b[38;5;28;01mclass\u001b[39;00m \u001b[38;5;21;01mScaleBase\u001b[39;00m:\n",
      "File \u001b[1;32m~\\anaconda3\\Lib\\site-packages\\matplotlib\\ticker.py:144\u001b[0m\n\u001b[0;32m    142\u001b[0m \u001b[38;5;28;01mimport\u001b[39;00m \u001b[38;5;21;01mmatplotlib\u001b[39;00m \u001b[38;5;28;01mas\u001b[39;00m \u001b[38;5;21;01mmpl\u001b[39;00m\n\u001b[0;32m    143\u001b[0m \u001b[38;5;28;01mfrom\u001b[39;00m \u001b[38;5;21;01mmatplotlib\u001b[39;00m \u001b[38;5;28;01mimport\u001b[39;00m _api, cbook\n\u001b[1;32m--> 144\u001b[0m \u001b[38;5;28;01mfrom\u001b[39;00m \u001b[38;5;21;01mmatplotlib\u001b[39;00m \u001b[38;5;28;01mimport\u001b[39;00m transforms \u001b[38;5;28;01mas\u001b[39;00m mtransforms\n\u001b[0;32m    146\u001b[0m _log \u001b[38;5;241m=\u001b[39m logging\u001b[38;5;241m.\u001b[39mgetLogger(\u001b[38;5;18m__name__\u001b[39m)\n\u001b[0;32m    148\u001b[0m __all__ \u001b[38;5;241m=\u001b[39m (\u001b[38;5;124m'\u001b[39m\u001b[38;5;124mTickHelper\u001b[39m\u001b[38;5;124m'\u001b[39m, \u001b[38;5;124m'\u001b[39m\u001b[38;5;124mFormatter\u001b[39m\u001b[38;5;124m'\u001b[39m, \u001b[38;5;124m'\u001b[39m\u001b[38;5;124mFixedFormatter\u001b[39m\u001b[38;5;124m'\u001b[39m,\n\u001b[0;32m    149\u001b[0m            \u001b[38;5;124m'\u001b[39m\u001b[38;5;124mNullFormatter\u001b[39m\u001b[38;5;124m'\u001b[39m, \u001b[38;5;124m'\u001b[39m\u001b[38;5;124mFuncFormatter\u001b[39m\u001b[38;5;124m'\u001b[39m, \u001b[38;5;124m'\u001b[39m\u001b[38;5;124mFormatStrFormatter\u001b[39m\u001b[38;5;124m'\u001b[39m,\n\u001b[0;32m    150\u001b[0m            \u001b[38;5;124m'\u001b[39m\u001b[38;5;124mStrMethodFormatter\u001b[39m\u001b[38;5;124m'\u001b[39m, \u001b[38;5;124m'\u001b[39m\u001b[38;5;124mScalarFormatter\u001b[39m\u001b[38;5;124m'\u001b[39m, \u001b[38;5;124m'\u001b[39m\u001b[38;5;124mLogFormatter\u001b[39m\u001b[38;5;124m'\u001b[39m,\n\u001b[1;32m   (...)\u001b[0m\n\u001b[0;32m    156\u001b[0m            \u001b[38;5;124m'\u001b[39m\u001b[38;5;124mMultipleLocator\u001b[39m\u001b[38;5;124m'\u001b[39m, \u001b[38;5;124m'\u001b[39m\u001b[38;5;124mMaxNLocator\u001b[39m\u001b[38;5;124m'\u001b[39m, \u001b[38;5;124m'\u001b[39m\u001b[38;5;124mAutoMinorLocator\u001b[39m\u001b[38;5;124m'\u001b[39m,\n\u001b[0;32m    157\u001b[0m            \u001b[38;5;124m'\u001b[39m\u001b[38;5;124mSymmetricalLogLocator\u001b[39m\u001b[38;5;124m'\u001b[39m, \u001b[38;5;124m'\u001b[39m\u001b[38;5;124mAsinhLocator\u001b[39m\u001b[38;5;124m'\u001b[39m, \u001b[38;5;124m'\u001b[39m\u001b[38;5;124mLogitLocator\u001b[39m\u001b[38;5;124m'\u001b[39m)\n",
      "File \u001b[1;32m~\\anaconda3\\Lib\\site-packages\\matplotlib\\transforms.py:49\u001b[0m\n\u001b[0;32m     46\u001b[0m \u001b[38;5;28;01mfrom\u001b[39;00m \u001b[38;5;21;01mnumpy\u001b[39;00m\u001b[38;5;21;01m.\u001b[39;00m\u001b[38;5;21;01mlinalg\u001b[39;00m \u001b[38;5;28;01mimport\u001b[39;00m inv\n\u001b[0;32m     48\u001b[0m \u001b[38;5;28;01mfrom\u001b[39;00m \u001b[38;5;21;01mmatplotlib\u001b[39;00m \u001b[38;5;28;01mimport\u001b[39;00m _api\n\u001b[1;32m---> 49\u001b[0m \u001b[38;5;28;01mfrom\u001b[39;00m \u001b[38;5;21;01mmatplotlib\u001b[39;00m\u001b[38;5;21;01m.\u001b[39;00m\u001b[38;5;21;01m_path\u001b[39;00m \u001b[38;5;28;01mimport\u001b[39;00m (\n\u001b[0;32m     50\u001b[0m     affine_transform, count_bboxes_overlapping_bbox, update_path_extents)\n\u001b[0;32m     51\u001b[0m \u001b[38;5;28;01mfrom\u001b[39;00m \u001b[38;5;21;01m.\u001b[39;00m\u001b[38;5;21;01mpath\u001b[39;00m \u001b[38;5;28;01mimport\u001b[39;00m Path\n\u001b[0;32m     53\u001b[0m DEBUG \u001b[38;5;241m=\u001b[39m \u001b[38;5;28;01mFalse\u001b[39;00m\n",
      "\u001b[1;31mImportError\u001b[0m: initialization failed"
     ]
    }
   ],
   "source": [
    "# Imports\n",
    "import pandas as pd\n",
    "import numpy as np\n",
    "import seaborn as sns\n",
    "import matplotlib.pyplot as plt\n",
    "from sklearn.tree import DecisionTreeClassifier\n",
    "from sklearn.ensemble import RandomForestClassifier\n",
    "from sklearn.svm import SVC\n",
    "from sklearn.linear_model import LogisticRegression\n",
    "from sklearn.model_selection import GridSearchCV, TimeSeriesSplit\n",
    "from sklearn.metrics import roc_auc_score, f1_score, precision_score, recall_score, confusion_matrix, ConfusionMatrixDisplay\n",
    "from sklearn.preprocessing import StandardScaler\n",
    "from sklearn.dummy import DummyClassifier\n",
    "import warnings\n",
    "from sklearn.tree import export_text\n",
    "from sklearn.feature_selection import RFE\n",
    "%matplotlib inline\n",
    "warnings.filterwarnings(action='once')\n",
    "sns.set_theme(style=\"darkgrid\")"
   ]
  },
  {
   "cell_type": "code",
   "execution_count": null,
   "id": "d88ef2a7ec483ad4",
   "metadata": {
    "ExecuteTime": {
     "end_time": "2024-04-28T23:27:54.187979Z",
     "start_time": "2024-04-28T23:27:54.112031Z"
    },
    "collapsed": false,
    "jupyter": {
     "outputs_hidden": false
    }
   },
   "outputs": [],
   "source": [
    "# Read in the data from preprocessing and feature engineering\n",
    "result_df = pd.read_csv('Data/Modeling_v1.csv')\n",
    "result_df.drop(columns=['Unnamed: 0'], inplace=True)\n",
    "result_df.top_3 = result_df.top_3.astype('int')"
   ]
  },
  {
   "cell_type": "code",
   "execution_count": null,
   "id": "9fe75aff65ce68f9",
   "metadata": {
    "ExecuteTime": {
     "end_time": "2024-04-28T23:27:54.197221Z",
     "start_time": "2024-04-28T23:27:54.190207Z"
    },
    "collapsed": false,
    "jupyter": {
     "outputs_hidden": false
    }
   },
   "outputs": [],
   "source": [
    "# Checking What columns we have\n",
    "result_df.columns"
   ]
  },
  {
   "cell_type": "code",
   "execution_count": null,
   "id": "face6c8cb9777845",
   "metadata": {
    "ExecuteTime": {
     "end_time": "2024-04-28T23:27:54.238882Z",
     "start_time": "2024-04-28T23:27:54.198948Z"
    },
    "collapsed": false,
    "jupyter": {
     "outputs_hidden": false
    }
   },
   "outputs": [],
   "source": [
    "# getting info about the numerical data in the data set\n",
    "result_df[['top_3', 'grid', 'top3_driver_season_percentage', 'Constructor_Top3_Percent', 'driver_avg_finish_pos_season', 'Top_3_at_circuit']].describe().T"
   ]
  },
  {
   "cell_type": "code",
   "execution_count": null,
   "id": "5484676509423bab",
   "metadata": {
    "ExecuteTime": {
     "end_time": "2024-04-28T23:27:54.246648Z",
     "start_time": "2024-04-28T23:27:54.240398Z"
    },
    "collapsed": false,
    "jupyter": {
     "outputs_hidden": false
    }
   },
   "outputs": [],
   "source": [
    "print(f'class 1: {result_df[result_df.top_3 == True].top_3.count() / result_df.shape[0]:.2%}')"
   ]
  },
  {
   "cell_type": "markdown",
   "id": "1567a8fec19e6600",
   "metadata": {},
   "source": [
    "We have an imbalanced dataset"
   ]
  },
  {
   "cell_type": "code",
   "execution_count": null,
   "id": "8783072b34ec442c",
   "metadata": {
    "ExecuteTime": {
     "end_time": "2024-04-28T23:27:54.562634Z",
     "start_time": "2024-04-28T23:27:54.247995Z"
    },
    "collapsed": false,
    "jupyter": {
     "outputs_hidden": false
    }
   },
   "outputs": [],
   "source": [
    "# Distribution of the target which is positionOrder\n",
    "fig,ax = plt.subplots(figsize=(10,8))\n",
    "sns.countplot(data=result_df, x='top_3_label', ax=ax)\n",
    "ax.set_title('Top 3 Distribution')\n",
    "ax.set_xlabel('Top 3')\n",
    "ax.set_ylabel('Drivers')\n",
    "plt.savefig('Images/TargetDistribution.png')\n",
    "plt.show()"
   ]
  },
  {
   "cell_type": "code",
   "execution_count": null,
   "id": "ed6bee509ee0bb3f",
   "metadata": {
    "ExecuteTime": {
     "end_time": "2024-04-28T23:27:55.027162Z",
     "start_time": "2024-04-28T23:27:54.566865Z"
    },
    "collapsed": false,
    "jupyter": {
     "outputs_hidden": false
    }
   },
   "outputs": [],
   "source": [
    "fig, ax = plt.subplots(figsize=(10,8))\n",
    "sns.histplot(data=result_df, x='grid',bins=35, ax=ax)\n",
    "ax.set_title('Qualifying Position Distribution')\n",
    "ax.set_xlabel('Qualifying Position')\n",
    "ax.set_ylabel('Drivers')\n",
    "plt.savefig(f'Images/GridDistribution.png')\n",
    "plt.show()"
   ]
  },
  {
   "cell_type": "markdown",
   "id": "d4119ca0bb2a00a1",
   "metadata": {},
   "source": [
    "Normal distribution, as expected trailing off near the end because some season had many more drivers"
   ]
  },
  {
   "cell_type": "code",
   "execution_count": null,
   "id": "c5df66f2de289f8b",
   "metadata": {
    "ExecuteTime": {
     "end_time": "2024-04-28T23:27:55.499595Z",
     "start_time": "2024-04-28T23:27:55.029047Z"
    },
    "collapsed": false,
    "jupyter": {
     "outputs_hidden": false
    }
   },
   "outputs": [],
   "source": [
    "# Getting Distribution Plots\n",
    "features = ['driver_avg_finish_pos_season', 'top3_driver_season_percentage', 'driver_avg_finish_pos_season_lag', 'top3_driver_season_percentage_lag', 'Constructor_Top3_Percent', 'Top_3_at_circuit']\n",
    "fig, ax = plt.subplots(figsize=(10,8))\n",
    "sns.histplot(data=result_df, x='driver_avg_finish_pos_season')\n",
    "ax.set_title('Average Finishing Position Distribution')\n",
    "ax.set_xlabel('Average Finishing Position')\n",
    "ax.set_ylabel('Drivers')\n",
    "plt.savefig('Images/driver_avg_finish_pos_seasonDistribution.png')\n",
    "plt.show()"
   ]
  },
  {
   "cell_type": "markdown",
   "id": "e4596d44f7d3c480",
   "metadata": {},
   "source": [
    "Normal distribution, this is what is expected after a season certain people will fall above or below the middle position but most will be right around there for their average finishing position"
   ]
  },
  {
   "cell_type": "code",
   "execution_count": null,
   "id": "ca5e706ed3176d6d",
   "metadata": {
    "ExecuteTime": {
     "end_time": "2024-04-28T23:27:55.966191Z",
     "start_time": "2024-04-28T23:27:55.501045Z"
    }
   },
   "outputs": [],
   "source": [
    "fig, ax = plt.subplots(figsize=(10,8))\n",
    "sns.histplot(data=result_df, x='top3_driver_season_percentage')\n",
    "ax.set_title('Driver Top 3 Percentage Distribution')\n",
    "ax.set_xlabel('Top 3 Percentage')\n",
    "ax.set_ylabel('Drivers')\n",
    "ax.set_ylim(top=2000)\n",
    "plt.savefig('Images/top3_driver_season_percentageDistribution.png')\n",
    "plt.show()"
   ]
  },
  {
   "cell_type": "markdown",
   "id": "fdf830df982b8aa0",
   "metadata": {},
   "source": [
    "Most people would not finish in the top 3 in a season and most of the people who do will only finish in the top 3 a few times except for an elite few"
   ]
  },
  {
   "cell_type": "code",
   "execution_count": null,
   "id": "acf9eaea197da1d9",
   "metadata": {
    "ExecuteTime": {
     "end_time": "2024-04-28T23:27:56.550583Z",
     "start_time": "2024-04-28T23:27:55.968250Z"
    }
   },
   "outputs": [],
   "source": [
    "fig, ax = plt.subplots(figsize=(10,8))\n",
    "sns.histplot(data=result_df, x='Constructor_Top3_Percent')\n",
    "ax.set_title('Constructor Top 3 Percentage Distribution')\n",
    "ax.set_xlabel('Top 3 Percentage')\n",
    "ax.set_ylabel('Drivers')\n",
    "ax.set_ylim(top=2000)\n",
    "plt.savefig('Images/Constructor_Top3_PercentDistribution.png')\n",
    "plt.show()"
   ]
  },
  {
   "cell_type": "markdown",
   "id": "1ff1babdd920fa06",
   "metadata": {},
   "source": [
    "Provides same insight as above except for teams only a few teams will finish in the top 3 and they will only do it a few times a season except for an elite few"
   ]
  },
  {
   "cell_type": "code",
   "execution_count": null,
   "id": "eb35f36788bfe91d",
   "metadata": {
    "ExecuteTime": {
     "end_time": "2024-04-28T23:27:56.937570Z",
     "start_time": "2024-04-28T23:27:56.552766Z"
    }
   },
   "outputs": [],
   "source": [
    "fig, ax = plt.subplots(figsize=(10,8))\n",
    "sns.histplot(data=result_df, x='Top_3_at_circuit')\n",
    "ax.set_title('Top 3 at Circuit Percentage Distribution')\n",
    "ax.set_xlabel('Top 3 at Circuit Percentage')\n",
    "ax.set_ylabel('Drivers')\n",
    "ax.set_ylim(top=2000)\n",
    "plt.savefig('Images/Constructor_Top3_PercentDistribution.png')\n",
    "plt.show()"
   ]
  },
  {
   "cell_type": "markdown",
   "id": "15bc52ea4332a154",
   "metadata": {},
   "source": [
    "Right skewed distribution, makes sense it is hard to finish in the top 3 at a circuit multiple times"
   ]
  },
  {
   "cell_type": "markdown",
   "id": "a03d5cab9a7ce9f0",
   "metadata": {
    "collapsed": false,
    "jupyter": {
     "outputs_hidden": false
    }
   },
   "source": [
    "### Getting general overview of relationships"
   ]
  },
  {
   "cell_type": "code",
   "execution_count": null,
   "id": "e3979e54ed64ac",
   "metadata": {
    "ExecuteTime": {
     "end_time": "2024-04-28T23:27:57.777892Z",
     "start_time": "2024-04-28T23:27:56.939164Z"
    },
    "collapsed": false,
    "jupyter": {
     "outputs_hidden": false
    }
   },
   "outputs": [],
   "source": [
    "# making a correlation map\n",
    "corr = result_df[['top_3', 'driver_avg_finish_pos_season', 'Constructor_Top3_Percent',\n",
    "                  'top3_driver_season_percentage_lag', 'driver_avg_finish_pos_season_lag',\n",
    "                  'Constructor_Top3_Percent_lag',\n",
    "                  'top3_driver_season_percentage', 'grid', 'Top_3_at_circuit']].corr()\n",
    "fig, ax = plt.subplots(figsize=(10,8))\n",
    "sns.heatmap(corr, annot=True, ax=ax)\n",
    "plt.savefig('Images/CorrelationMap.png', bbox_inches=\"tight\")\n",
    "plt.show()"
   ]
  },
  {
   "cell_type": "markdown",
   "id": "44bc1990f2d3f513",
   "metadata": {},
   "source": [
    "Some features have a good correlation with the top_3, also some collinearity happening"
   ]
  },
  {
   "cell_type": "markdown",
   "id": "10a2608342ae6298",
   "metadata": {
    "collapsed": false,
    "jupyter": {
     "outputs_hidden": false
    }
   },
   "source": [
    "### Taking closer look at varaibles that are closely correlated with positionOrder"
   ]
  },
  {
   "cell_type": "code",
   "execution_count": null,
   "id": "f8c58e4faf91513c",
   "metadata": {
    "ExecuteTime": {
     "end_time": "2024-04-28T23:27:58.610683Z",
     "start_time": "2024-04-28T23:27:57.780384Z"
    },
    "collapsed": false,
    "jupyter": {
     "outputs_hidden": false
    }
   },
   "outputs": [],
   "source": [
    "fig, ax = plt.subplots(figsize=(10,8), sharex=True, sharey=True, nrows=2)\n",
    "sns.histplot(result_df[result_df.top_3 == 1], x='driver_avg_finish_pos_season', ax=ax[0], color='green')\n",
    "sns.histplot(result_df[result_df.top_3 == 0], x='driver_avg_finish_pos_season', ax=ax[1], color='red')\n",
    "ax[0].set_title('Top 3')\n",
    "ax[1].set_title('Not Top 3')\n",
    "ax[1].set_ylabel('')\n",
    "ax[0].set_ylabel('')\n",
    "ax[1].set_xlabel('')\n",
    "plt.suptitle('Distribution Top 3 and Not Top 3 vs Average Finishing Position', fontsize=12, fontweight='bold')\n",
    "fig.supylabel('Drivers')\n",
    "fig.supxlabel('Average Finishing Position')\n",
    "plt.savefig('Images/PositionOrderVsdriver_avg_finish_pos_season.png')\n",
    "plt.show()"
   ]
  },
  {
   "cell_type": "markdown",
   "id": "21c4079f40856809",
   "metadata": {},
   "source": [
    "Could be a good feature to predict top 3 as the distributions are noticably different with the mean for drivers in the top 3 being lower and the whole distribution shifted left wards compared to drivers who didn't finish in the top 3"
   ]
  },
  {
   "cell_type": "code",
   "execution_count": null,
   "id": "d14b1c1e2c6f1a5f",
   "metadata": {
    "ExecuteTime": {
     "end_time": "2024-04-28T23:27:59.274032Z",
     "start_time": "2024-04-28T23:27:58.612528Z"
    },
    "collapsed": false,
    "jupyter": {
     "outputs_hidden": false
    }
   },
   "outputs": [],
   "source": [
    "fig, ax = plt.subplots(figsize=(10,8), sharex=True, sharey=True, nrows=2)\n",
    "sns.histplot(result_df[result_df.top_3 == 1], x='driver_avg_finish_pos_season_lag', ax=ax[0], color='green')\n",
    "sns.histplot(result_df[result_df.top_3 == 0], x='driver_avg_finish_pos_season_lag', ax=ax[1], color='red')\n",
    "ax[0].set_title('Top 3')\n",
    "ax[1].set_title('Not Top 3')\n",
    "ax[1].set_ylabel('')\n",
    "ax[0].set_ylabel('')\n",
    "ax[1].set_xlabel('')\n",
    "plt.suptitle('Distribution Top 3 and Not Top 3 vs Average Finishing Position Last Season', fontsize=12, fontweight='bold')\n",
    "fig.supylabel('Drivers')\n",
    "fig.supxlabel('Average Finishing Position Last Season')\n",
    "plt.savefig('Images/driver_avg_pos_season_lag.png')\n",
    "plt.show()"
   ]
  },
  {
   "cell_type": "markdown",
   "id": "79fcb97599e5adab",
   "metadata": {},
   "source": [
    "Could be a good predictor as the distributions are different"
   ]
  },
  {
   "cell_type": "code",
   "execution_count": null,
   "id": "71e3d93561fd1ebc",
   "metadata": {
    "ExecuteTime": {
     "end_time": "2024-04-28T23:27:59.800632Z",
     "start_time": "2024-04-28T23:27:59.275369Z"
    },
    "collapsed": false,
    "jupyter": {
     "outputs_hidden": false
    }
   },
   "outputs": [],
   "source": [
    "fig, ax = plt.subplots(figsize=(10,8), sharex=True, sharey=True, nrows=2)\n",
    "sns.histplot(result_df[result_df.top_3 == 1], x='top3_driver_season_percentage', ax=ax[0], color='green')\n",
    "sns.histplot(result_df[result_df.top_3 == 0], x='top3_driver_season_percentage', ax=ax[1], color='red')\n",
    "ax[1].set_ylim(top=1000)\n",
    "ax[0].set_title('Top 3')\n",
    "ax[1].set_title('Not Top 3')\n",
    "ax[1].set_ylabel('')\n",
    "ax[0].set_ylabel('')\n",
    "ax[1].set_xlabel('')\n",
    "plt.suptitle('Distribution Top 3 and Not Top 3 vs Top 3 Driver Percentage', fontsize=12, fontweight='bold')\n",
    "fig.supylabel('Drivers')\n",
    "fig.supxlabel('Top 3 Percentage This Season')\n",
    "plt.savefig('Images/top3_driver_season_percentage.png')\n",
    "plt.show()"
   ]
  },
  {
   "cell_type": "markdown",
   "id": "d23616eac629b08a",
   "metadata": {},
   "source": [
    "Could be a good predictor as the distributions are very different "
   ]
  },
  {
   "cell_type": "code",
   "execution_count": null,
   "id": "2dbbd733159f25e5",
   "metadata": {
    "ExecuteTime": {
     "end_time": "2024-04-28T23:28:00.618064Z",
     "start_time": "2024-04-28T23:27:59.801537Z"
    },
    "collapsed": false,
    "jupyter": {
     "outputs_hidden": false
    }
   },
   "outputs": [],
   "source": [
    "fig, ax = plt.subplots(figsize=(10,8), sharex=True, sharey=True, nrows=2)\n",
    "sns.histplot(result_df[result_df.top_3 == 1], x='top3_driver_season_percentage_lag', ax=ax[0], color='green')\n",
    "sns.histplot(result_df[result_df.top_3 == 0], x='top3_driver_season_percentage_lag', ax=ax[1], color='red')\n",
    "ax[1].set_ylim(top=1000)\n",
    "ax[0].set_title('Top 3')\n",
    "ax[1].set_title('Not Top 3')\n",
    "ax[1].set_ylabel('')\n",
    "ax[0].set_ylabel('')\n",
    "ax[1].set_xlabel('')\n",
    "plt.suptitle('Distribution Top 3 and Not Top 3 vs Driver Top 3 Percentage Last Year', fontsize=12, fontweight='bold')\n",
    "fig.supylabel('Drivers')\n",
    "fig.supxlabel('Top 3 Percentage Last Season')\n",
    "plt.savefig('Images/top3_driver_season_percentage_lag.png')\n",
    "plt.show()"
   ]
  },
  {
   "cell_type": "markdown",
   "id": "5fa8c3200d45e609",
   "metadata": {},
   "source": [
    "Could be a good predictor as the distributions look to be slightly different"
   ]
  },
  {
   "cell_type": "code",
   "execution_count": null,
   "id": "3ed782c488fa3ef1",
   "metadata": {
    "ExecuteTime": {
     "end_time": "2024-04-28T23:28:01.905629Z",
     "start_time": "2024-04-28T23:28:00.623253Z"
    },
    "collapsed": false,
    "jupyter": {
     "outputs_hidden": false
    }
   },
   "outputs": [],
   "source": [
    "fig, ax = plt.subplots(figsize=(10,8), sharex=True, sharey=True, nrows=2)\n",
    "sns.histplot(result_df[result_df.top_3 == 1], x='Constructor_Top3_Percent', ax=ax[0], color='green')\n",
    "sns.histplot(result_df[result_df.top_3 == 0], x='Constructor_Top3_Percent', ax=ax[1], color='red')\n",
    "ax[1].set_ylim(top=1000)\n",
    "ax[0].set_title('Top 3')\n",
    "ax[1].set_title('Not Top 3')\n",
    "ax[1].set_ylabel('')\n",
    "ax[0].set_ylabel('')\n",
    "ax[1].set_xlabel('')\n",
    "plt.suptitle('Distribution Top 3 and Not Top 3 vs Constructor Top 3 Percentage', fontsize=12, fontweight='bold')\n",
    "fig.supylabel('Drivers')\n",
    "fig.supxlabel('Constructor Top 3 Percentage')\n",
    "plt.savefig('Images/Constructor_Top_3Percent.png')\n",
    "plt.show()"
   ]
  },
  {
   "cell_type": "markdown",
   "id": "ab21aeb3766e97b0",
   "metadata": {},
   "source": [
    "Could be a good predictor distributions look slightly different"
   ]
  },
  {
   "cell_type": "code",
   "execution_count": null,
   "id": "e96d221fa54b878",
   "metadata": {
    "ExecuteTime": {
     "end_time": "2024-04-28T23:28:02.811458Z",
     "start_time": "2024-04-28T23:28:01.909808Z"
    },
    "collapsed": false,
    "jupyter": {
     "outputs_hidden": false
    }
   },
   "outputs": [],
   "source": [
    "fig, ax = plt.subplots(figsize=(10,8), sharex=True, sharey=True, nrows=2)\n",
    "sns.histplot(result_df[result_df.top_3 == 1], x='grid', ax=ax[0], bins=10, color='green')\n",
    "sns.histplot(result_df[result_df.top_3 == 0], x='grid', ax=ax[1], bins=10, color='red')\n",
    "ax[0].set_title('Top 3')\n",
    "ax[1].set_title('Not Top 3')\n",
    "ax[1].set_ylabel('')\n",
    "ax[0].set_ylabel('')\n",
    "ax[1].set_xlabel('')\n",
    "plt.suptitle('Distribution Top 3 and Not Top 3 vs Qualifying Position', fontsize=12, fontweight='bold')\n",
    "fig.supylabel('Drivers')\n",
    "fig.supxlabel('Qualifying Position')\n",
    "plt.savefig('Images/grid.png')\n",
    "plt.show()"
   ]
  },
  {
   "cell_type": "markdown",
   "id": "a92d9fd6ad4082c2",
   "metadata": {},
   "source": [
    "Could be a very good predictor as the distributions are very different"
   ]
  },
  {
   "cell_type": "code",
   "execution_count": null,
   "id": "a808eab59e84e17c",
   "metadata": {
    "ExecuteTime": {
     "end_time": "2024-04-28T23:28:03.331585Z",
     "start_time": "2024-04-28T23:28:02.813410Z"
    }
   },
   "outputs": [],
   "source": [
    "fig, ax = plt.subplots(figsize=(10,8), sharex=True, sharey=True, nrows=2)\n",
    "sns.histplot(result_df[result_df.top_3 == 1], x='Top_3_at_circuit', ax=ax[0], bins=10, color='green')\n",
    "sns.histplot(result_df[result_df.top_3 == 0], x='Top_3_at_circuit', ax=ax[1], bins=10, color='red')\n",
    "ax[1].set_ylim(top=2000)\n",
    "ax[0].set_title('Top 3')\n",
    "ax[1].set_title('Not Top 3')\n",
    "ax[1].set_ylabel('')\n",
    "ax[0].set_ylabel('')\n",
    "ax[1].set_xlabel('')\n",
    "plt.suptitle('Distribution Top 3 and Not Top 3 vs Top 3 Percentage at Circuit', fontsize=12, fontweight='bold')\n",
    "fig.supylabel('Drivers')\n",
    "fig.supxlabel('Top 3 at Circuit Percentage')\n",
    "plt.savefig('Images/top_3_at_circuit.png')\n",
    "plt.show()"
   ]
  },
  {
   "cell_type": "markdown",
   "id": "3e80130a387d77a6",
   "metadata": {},
   "source": [
    "Could be a good predictor as the distributions are slightly different"
   ]
  },
  {
   "cell_type": "markdown",
   "id": "144e41919334f903",
   "metadata": {
    "collapsed": false,
    "jupyter": {
     "outputs_hidden": false
    }
   },
   "source": [
    "## Modeling"
   ]
  },
  {
   "cell_type": "code",
   "execution_count": null,
   "id": "dfc2a899f40b38b9",
   "metadata": {
    "ExecuteTime": {
     "end_time": "2024-04-28T23:59:25.955646Z",
     "start_time": "2024-04-28T23:59:18.519766Z"
    },
    "collapsed": false,
    "jupyter": {
     "outputs_hidden": false
    }
   },
   "outputs": [],
   "source": [
    "# Splitting our data based on years to avoid data leakage\n",
    "features = ['driver_avg_finish_pos_season', 'top3_driver_season_percentage', 'driver_avg_finish_pos_season_lag', 'top3_driver_season_percentage_lag', 'Constructor_Top3_Percent', 'grid', 'Top_3_at_circuit', 'Constructor_Top3_Percent_lag']\n",
    "result_df.set_index(result_df['year'], inplace=True)\n",
    "train = result_df['1980-01-01':'2009-01-01']\n",
    "test = result_df['2010-01-01':]\n",
    "train.reset_index(inplace=True, drop=True)\n",
    "X_train = train[features]\n",
    "X_test = test[features]\n",
    "y_train = train['top_3']\n",
    "y_test = test['top_3']\n",
    "print(train.shape)\n",
    "print(test.shape)\n",
    "tss = TimeSeriesSplit(n_splits=5)  # Getting cross validation data split based off of date"
   ]
  },
  {
   "cell_type": "code",
   "execution_count": null,
   "id": "d9a912e3d46cc2c9",
   "metadata": {},
   "outputs": [],
   "source": [
    "# starting our modeling with a Decision Tree\n",
    "params = {\n",
    "    'criterion': ['entropy', 'log_loss', 'gini'],\n",
    "    'max_depth': list(range(3,15)),\n",
    "    'min_samples_split': list(range(30, 50)),\n",
    "    'min_impurity_decrease':[.0001, .001, .01, .1]\n",
    "}\n",
    "DecisionTreeGridSearch = GridSearchCV(DecisionTreeClassifier(random_state=42), param_grid=params, n_jobs=-1, scoring='f1', cv=tss.split(X_train, y_train), verbose=True)\n",
    "DecisionTreeGridSearch.fit(X_train, y_train)\n",
    "best_decision_tree = DecisionTreeGridSearch.best_estimator_"
   ]
  },
  {
   "cell_type": "code",
   "execution_count": null,
   "id": "ee4d6d3ea81c0294",
   "metadata": {
    "ExecuteTime": {
     "end_time": "2024-04-29T01:20:16.193778Z",
     "start_time": "2024-04-29T01:20:16.168872Z"
    }
   },
   "outputs": [],
   "source": [
    "# Getting Performance metrics for the decision tree\n",
    "test_prediction = best_decision_tree.predict(X_test)\n",
    "test_score = roc_auc_score(y_test, test_prediction)\n",
    "train_pred = best_decision_tree.predict(X_train)\n",
    "# Predict probabilities for the positive class\n",
    "probabilities = best_decision_tree.predict_proba(X_test)[:, 1]\n",
    "\n",
    "# Create a DataFrame with predictions and actual values\n",
    "predictions_df = pd.DataFrame({'probabilities': probabilities, 'actual': y_test})\n",
    "\n",
    "# Select the top 10% entries with the highest probability\n",
    "top_10_percent = predictions_df.nlargest(int(len(X_test) * 0.1), 'probabilities')\n",
    "\n",
    "# Calculate the number of actual positives in the top 10%\n",
    "top_10_actual_positives = top_10_percent['actual'].sum()\n",
    "\n",
    "\n",
    "# Calculate lift\n",
    "lift = (top_10_actual_positives/top_10_percent.actual.count()) / (y_test.sum() / y_test.count())\n",
    "\n",
    "print(f'Best score: {DecisionTreeGridSearch.best_score_: .2f}')\n",
    "print(f'Best params: {DecisionTreeGridSearch.best_params_}')\n",
    "print(f'Train roc_auc: {roc_auc_score(y_train, train_pred): .2}')\n",
    "print(f'Test roc_auc: {test_score: .2}')\n",
    "print(f'Train Accuracy: {best_decision_tree.score(X_train, y_train): .2%}')\n",
    "print(f'Test Accuracy: {best_decision_tree.score(X_test, y_test): .2%}')\n",
    "print(f'Train F1: {f1_score(y_train, train_pred): .2%}')\n",
    "print(f'Test F1: {f1_score(y_test, test_prediction): .2%}')\n",
    "print(f'Test recall: {recall_score(y_test, test_prediction): .2%}')\n",
    "print(f'Test precision: {precision_score(y_test, test_prediction): .2%}')\n",
    "print(f\"Lift of the top 10%: {lift: .2}\")"
   ]
  },
  {
   "cell_type": "code",
   "execution_count": null,
   "id": "daeb913ee56679b2",
   "metadata": {
    "ExecuteTime": {
     "end_time": "2024-04-28T23:28:26.044538Z",
     "start_time": "2024-04-28T23:28:25.841299Z"
    }
   },
   "outputs": [],
   "source": [
    "# getting a confusion matrix to better understand decision tree performance\n",
    "cm = confusion_matrix(y_test, test_prediction, normalize='true')\n",
    "fig, ax = plt.subplots(figsize=(10,8))\n",
    "display = ConfusionMatrixDisplay(cm, display_labels=best_decision_tree.classes_)\n",
    "display.plot(ax=ax)\n",
    "plt.show()"
   ]
  },
  {
   "cell_type": "code",
   "execution_count": null,
   "id": "5df190f658358745",
   "metadata": {
    "ExecuteTime": {
     "end_time": "2024-04-29T01:32:08.357079Z",
     "start_time": "2024-04-29T01:32:08.342681Z"
    }
   },
   "outputs": [],
   "source": [
    "# Dummy Classifier\n",
    "dummy = DummyClassifier(random_state=42)\n",
    "dummy.fit(X_train, y_train)\n",
    "train_pred = dummy.predict(X_train)\n",
    "test_pred = dummy.predict(X_test)\n",
    "probabilities = dummy.predict_proba(X_test)[:, 1]\n",
    "\n",
    "# Create a DataFrame with predictions and actual values\n",
    "predictions_df = pd.DataFrame({'probabilities': probabilities, 'actual': y_test})\n",
    "\n",
    "# Select the top 10% entries with the highest probability\n",
    "top_10_percent = predictions_df.nlargest(int(len(X_test) * 0.1), 'probabilities')\n",
    "\n",
    "# Calculate the number of actual positives in the top 10%\n",
    "top_10_actual_positives = top_10_percent['actual'].sum()\n",
    "\n",
    "\n",
    "# Calculate lift\n",
    "lift = (top_10_actual_positives/top_10_percent.actual.count()) / (y_test.sum() / y_test.count())\n",
    "\n",
    "print(f'Train accuracy: {dummy.score(X_train, y_train): .2%}')\n",
    "print(f'Test accuracy: {dummy.score(X_test, y_test): .2%}')\n",
    "print(f'Train roc_auc: {roc_auc_score(y_train, train_pred): .2}')\n",
    "print(f'Test roc_auc: {roc_auc_score(y_test, test_pred): .2}')\n",
    "print(f'Train F1: {f1_score(y_train, train_pred): .2%}')\n",
    "print(f'Test F1: {f1_score(y_test, test_pred): .2%}')\n",
    "print(f'Test recall: {recall_score(y_test, test_pred): .2%}')\n",
    "print(f'Test precision: {precision_score(y_test, test_pred): .2%}')\n",
    "print(f'Lift of the top 10%: {lift: .2}')"
   ]
  },
  {
   "cell_type": "code",
   "execution_count": null,
   "id": "6ef975ea67ccdd0e",
   "metadata": {
    "ExecuteTime": {
     "end_time": "2024-04-29T00:42:44.920852Z",
     "start_time": "2024-04-29T00:41:47.013198Z"
    },
    "collapsed": false,
    "jupyter": {
     "outputs_hidden": false
    }
   },
   "outputs": [],
   "source": [
    "# Now going to use a Random Forest\n",
    "X_train_forest = train[['driver_avg_finish_pos_season', 'top3_driver_season_percentage', 'driver_avg_finish_pos_season_lag', 'top3_driver_season_percentage_lag', 'Constructor_Top3_Percent', 'grid', 'Top_3_at_circuit']]\n",
    "\n",
    "X_test_forest = test[['driver_avg_finish_pos_season', 'top3_driver_season_percentage', 'driver_avg_finish_pos_season_lag', 'top3_driver_season_percentage_lag', 'Constructor_Top3_Percent', 'grid', 'Top_3_at_circuit']]\n",
    "\n",
    "param_grid={\n",
    "    'criterion': ['gini', 'entropy', 'log_loss'],\n",
    "    'n_estimators': [35, 45, 50],\n",
    "    'max_depth': list(range(5,15)),\n",
    "    'min_samples_split': list(range(25,30)),\n",
    "    'min_impurity_decrease':[.0001, .001]\n",
    "}\n",
    "\n",
    "randomforestgridsearch = GridSearchCV(RandomForestClassifier(random_state=42), param_grid=param_grid, n_jobs=-1, scoring='f1', cv=tss.split(X_train_forest, y_train), verbose=True)\n",
    "randomforestgridsearch.fit(X_train_forest, y_train)\n",
    "best_forest = randomforestgridsearch.best_estimator_"
   ]
  },
  {
   "cell_type": "code",
   "execution_count": null,
   "id": "58e03f03e1816973",
   "metadata": {
    "ExecuteTime": {
     "end_time": "2024-04-29T01:36:28.717801Z",
     "start_time": "2024-04-29T01:36:28.586183Z"
    }
   },
   "outputs": [],
   "source": [
    "# Random Forest Performance Metrics\n",
    "pred = best_forest.predict(X_test_forest)\n",
    "train_pred = best_forest.predict(X_train_forest)\n",
    "test_prediction = best_forest.predict(X_test_forest)\n",
    "# Predict probabilities for the positive class\n",
    "probabilities = best_forest.predict_proba(X_test_forest)[:, 1]\n",
    "\n",
    "# Create a DataFrame with predictions and actual values\n",
    "predictions_df = pd.DataFrame({'probabilities': probabilities, 'actual': y_test})\n",
    "\n",
    "# Select the top 10% entries with the highest probability\n",
    "top_10_percent = predictions_df.nlargest(int(len(X_test_forest) * 0.1), 'probabilities')\n",
    "\n",
    "# Calculate the number of actual positives in the top 10%\n",
    "top_10_actual_positives = top_10_percent['actual'].sum()\n",
    "\n",
    "\n",
    "# Calculate lift\n",
    "lift = (top_10_actual_positives/top_10_percent.actual.count()) / (y_test.sum() / y_test.count())\n",
    "\n",
    "print(f'Best score: {randomforestgridsearch.best_score_: .2%}')\n",
    "print(f'Best params: {randomforestgridsearch.best_params_}')\n",
    "print(f'Train Accuracy: {best_forest.score(X_train_forest, y_train): .2%}')\n",
    "print(f'Test Accuracy: {best_forest.score(X_test_forest, y_test): .2%}')\n",
    "print(f'Train roc_auc: {roc_auc_score(y_train, train_pred): .2f}')\n",
    "print(f'Test roc_auc: {roc_auc_score(y_test, pred): .2f}')\n",
    "print(f'Train F1: {f1_score(y_train, train_pred): .2%}')\n",
    "print(f'Test F1: {f1_score(y_test, pred): .2%}')\n",
    "print(f'Test recall: {recall_score(y_test, pred): .2%}')\n",
    "print(f'Test precision: {precision_score(y_test, pred): .2%}')\n",
    "print(f'Lift of the top 10%: {lift: .2f}')"
   ]
  },
  {
   "cell_type": "code",
   "execution_count": null,
   "id": "5c55372c-674c-4dd0-8322-032a33d0d06c",
   "metadata": {},
   "outputs": [],
   "source": [
    "from sklearn.ensemble import RandomForestClassifier\n",
    "\n",
    "# Load dataset\n",
    "df = pd.read_csv(\"Data/Modeling_v1.csv\")\n",
    "\n",
    "# Select features and target\n",
    "features = [\n",
    "    'driver_avg_finish_pos_season',\n",
    "    'top3_driver_season_percentage',\n",
    "    'driver_avg_finish_pos_season_lag',\n",
    "    'top3_driver_season_percentage_lag',\n",
    "    'Constructor_Top3_Percent',\n",
    "    'grid',\n",
    "    'Top_3_at_circuit'\n",
    "]\n",
    "target = df['top_3'].astype(int)  # Convert True/False to 1/0\n",
    "\n",
    "X = df[features]\n",
    "y = target\n",
    "\n",
    "# TimeSeriesSplit for reproducibility\n",
    "tss = TimeSeriesSplit(n_splits=5)\n",
    "\n",
    "# Define hyperparameters\n",
    "param_grid = {\n",
    "    'criterion': ['gini', 'entropy', 'log_loss'],\n",
    "    'n_estimators': [35, 45, 50],\n",
    "    'max_depth': list(range(5, 15)),\n",
    "    'min_samples_split': list(range(25, 30)),\n",
    "    'min_impurity_decrease': [0.0001, 0.001]\n",
    "}\n",
    "\n",
    "# Run GridSearchCV\n",
    "grid_search = GridSearchCV(RandomForestClassifier(random_state=42), param_grid=param_grid,\n",
    "                           n_jobs=-1, scoring='f1', cv=tss.split(X, y), verbose=1)\n",
    "grid_search.fit(X, y)\n",
    "best_forest = grid_search.best_estimator_\n",
    "\n",
    "# --- User Input Function ---\n",
    "def predict_top3():\n",
    "    print(\"\\nEnter the following driver stats:\")\n",
    "    user_input = {\n",
    "        'driver_avg_finish_pos_season': float(input(\"Driver Avg Finish Pos This Season: \")),\n",
    "        'top3_driver_season_percentage': float(input(\"Top3 % This Season: \")),\n",
    "        'driver_avg_finish_pos_season_lag': float(input(\"Driver Avg Finish Pos Last Season: \")),\n",
    "        'top3_driver_season_percentage_lag': float(input(\"Top3 % Last Season: \")),\n",
    "        'Constructor_Top3_Percent': float(input(\"Constructor Top3 % This Season: \")),\n",
    "        'grid': int(input(\"Grid Position: \")),\n",
    "        'Top_3_at_circuit': float(input(\"Top 3 Finishes at Circuit: \"))\n",
    "    }\n",
    "\n",
    "    input_df = pd.DataFrame([user_input])\n",
    "    prediction = best_forest.predict(input_df)[0]\n",
    "    print(\"\\n Prediction:\", \"Top 3 Finish\" if prediction == 1 else \"Not in Top 3\")\n",
    "\n",
    "\n",
    "# Call the prediction function\n",
    "predict_top3()\n"
   ]
  }
 ],
 "metadata": {
  "kernelspec": {
   "display_name": "Python [conda env:base] *",
   "language": "python",
   "name": "conda-base-py"
  },
  "language_info": {
   "codemirror_mode": {
    "name": "ipython",
    "version": 3
   },
   "file_extension": ".py",
   "mimetype": "text/x-python",
   "name": "python",
   "nbconvert_exporter": "python",
   "pygments_lexer": "ipython3",
   "version": "3.12.7"
  }
 },
 "nbformat": 4,
 "nbformat_minor": 5
}
